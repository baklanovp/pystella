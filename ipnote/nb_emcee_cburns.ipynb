{
 "cells": [
  {
   "cell_type": "code",
   "execution_count": null,
   "metadata": {
    "collapsed": true
   },
   "outputs": [],
   "source": [
    "# see https://users.obs.carnegiescience.edu/cburns/ipynbs/Emcee.html"
   ]
  },
  {
   "cell_type": "code",
   "execution_count": null,
   "metadata": {
    "collapsed": true
   },
   "outputs": [],
   "source": [
    "from numpy import *\n",
    "Nobs = 20\n",
    "x_true = random.uniform(0,10, size=Nobs)\n",
    "y_true = random.uniform(-1,1, size=Nobs)\n",
    "alpha_true = 0.5\n",
    "beta_x_true = 1.0\n",
    "beta_y_true = 10.0\n",
    "eps_true = 0.5\n",
    "z_true = alpha_true + beta_x_true*x_true + beta_y_true*y_true\n",
    "z_obs = z_true + random.normal(0, eps_true, size=Nobs)"
   ]
  },
  {
   "cell_type": "code",
   "execution_count": null,
   "metadata": {
    "collapsed": false
   },
   "outputs": [],
   "source": [
    "%matplotlib inline\n",
    "from matplotlib import pyplot as plt\n",
    "plt.figure(figsize=(12,6))\n",
    "plt.subplot(1,2,1)\n",
    "plt.scatter(x_true, z_obs, c=y_true, marker='o')\n",
    "plt.colorbar()\n",
    "plt.xlabel('X')\n",
    "plt.ylabel('Z')\n",
    "plt.subplot(1,2,2)\n",
    "plt.scatter(y_true, z_obs, c=x_true, marker='o')\n",
    "plt.colorbar()\n",
    "plt.xlabel('Y')\n",
    "plt.ylabel('Z')"
   ]
  },
  {
   "cell_type": "code",
   "execution_count": null,
   "metadata": {
    "collapsed": true
   },
   "outputs": [],
   "source": [
    "def lnprior(p):\n",
    "    # The parameters are stored as a vector of values, so unpack them\n",
    "    alpha,betax,betay,eps = p\n",
    "    # We're using only uniform priors, and only eps has a lower bound\n",
    "    if eps <= 0:\n",
    "        return -inf\n",
    "    return 0\n",
    "\n",
    "def lnlike(p, x, y, z):\n",
    "    alpha,betax,betay,eps = p\n",
    "    model = alpha + betax*x + betay*y\n",
    "    # the likelihood is sum of the lot of normal distributions\n",
    "    denom = power(eps,2)\n",
    "    lp = -0.5*sum(power((z - model),2)/denom + log(denom) + log(2*pi))\n",
    "    return lp\n",
    "\n",
    "def lnprob(p, x, y, z):\n",
    "    lp = lnprior(p)\n",
    "    if not isfinite(lp):\n",
    "        return -inf\n",
    "    return lp + lnlike(p, x, y, z)"
   ]
  },
  {
   "cell_type": "code",
   "execution_count": null,
   "metadata": {
    "collapsed": false
   },
   "outputs": [],
   "source": [
    "import scipy.optimize as opt\n",
    "nll = lambda *args: -lnlike(*args)\n",
    "result = opt.minimize(nll, [alpha_true, beta_x_true, beta_y_true, eps_true],\n",
    "                      args=(x_true, y_true, z_obs))\n",
    "print(result['x'])"
   ]
  },
  {
   "cell_type": "code",
   "execution_count": null,
   "metadata": {
    "collapsed": true
   },
   "outputs": [],
   "source": [
    "Nwalker,Ndim = 50,4\n",
    "p0 = [result['x']+1.e-4*random.randn(Ndim) for i in range(Nwalker)]"
   ]
  },
  {
   "cell_type": "code",
   "execution_count": null,
   "metadata": {
    "collapsed": true
   },
   "outputs": [],
   "source": [
    "import emcee\n",
    "sampler = emcee.EnsembleSampler(Nwalker,Ndim,lnprob,\n",
    "                                args=(x_true,y_true,z_obs))\n",
    "pos,prob,state = sampler.run_mcmc(p0, 500)"
   ]
  },
  {
   "cell_type": "code",
   "execution_count": null,
   "metadata": {
    "collapsed": false
   },
   "outputs": [],
   "source": [
    "res=plt.plot(sampler.chain[:,:,0].T, '-', color='k', alpha=0.3)\n",
    "plt.axhline(alpha_true, color='blue')"
   ]
  },
  {
   "cell_type": "code",
   "execution_count": null,
   "metadata": {
    "collapsed": true
   },
   "outputs": [],
   "source": [
    "sampler.reset()\n",
    "pos,prob,state = sampler.run_mcmc(pos, 1000)"
   ]
  },
  {
   "cell_type": "code",
   "execution_count": null,
   "metadata": {
    "collapsed": false
   },
   "outputs": [],
   "source": [
    "m_alpha,m_betax,m_betay,m_eps = median(sampler.flatchain, axis=0)\n",
    "\n",
    "plt.figure(figsize=(12,6))\n",
    "plt.subplot(1,2,1)\n",
    "plt.plot(x_true, z_obs-m_alpha-m_betay*y_true, 'o')\n",
    "plt.xlabel('X')\n",
    "plt.ylabel('Z - alpha - beta_y y')\n",
    "# Now plot the model\n",
    "xx = array([x_true.min(), x_true.max()])\n",
    "plt.plot(xx, xx*m_betax)\n",
    "plt.plot(xx, xx*m_betax + m_eps, '--', color='k')\n",
    "plt.plot(xx, xx*m_betax - m_eps, '--', color='k')\n",
    "plt.subplot(1,2,2)\n",
    "plt.plot(y_true, z_obs-m_alpha-m_betax*x_true, 'o')\n",
    "plt.xlabel('Y')\n",
    "plt.ylabel('Z - alpha - beta_x x')\n",
    "yy = array([y_true.min(), y_true.max()])\n",
    "plt.plot(yy, yy*m_betay)\n",
    "plt.plot(yy, yy*m_betay + m_eps, '--', color='k')\n",
    "plt.plot(yy, yy*m_betay - m_eps, '--', color='k')"
   ]
  },
  {
   "cell_type": "code",
   "execution_count": null,
   "metadata": {
    "collapsed": false
   },
   "outputs": [],
   "source": [
    "import corner\n",
    "tmp = corner.corner(sampler.flatchain, labels=['alpha','betax','betay','eps'], \n",
    "                truths=[alpha_true, beta_x_true, beta_y_true, eps_true])"
   ]
  },
  {
   "cell_type": "code",
   "execution_count": null,
   "metadata": {
    "collapsed": true
   },
   "outputs": [],
   "source": []
  }
 ],
 "metadata": {
  "kernelspec": {
   "display_name": "Python 3",
   "language": "python",
   "name": "python3"
  },
  "language_info": {
   "codemirror_mode": {
    "name": "ipython",
    "version": 3
   },
   "file_extension": ".py",
   "mimetype": "text/x-python",
   "name": "python",
   "nbconvert_exporter": "python",
   "pygments_lexer": "ipython3",
   "version": "3.4.3"
  }
 },
 "nbformat": 4,
 "nbformat_minor": 0
}
