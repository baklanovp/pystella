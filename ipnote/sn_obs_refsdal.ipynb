{
 "cells": [
  {
   "cell_type": "code",
   "execution_count": null,
   "metadata": {},
   "outputs": [],
   "source": [
    "# \n",
    "# /usr/bin/python2.7 /usr/bin/ipython notebook --no-browser --ip 127.0.0.1 --port 8888"
   ]
  },
  {
   "cell_type": "code",
   "execution_count": null,
   "metadata": {},
   "outputs": [],
   "source": [
    "import os\n",
    "path_root = os.path.expanduser('~/Sn/Release/python/pystella')\n",
    "import sys\n",
    "sys.path.append(path_root)"
   ]
  },
  {
   "cell_type": "code",
   "execution_count": null,
   "metadata": {},
   "outputs": [],
   "source": [
    "from pystella.rf import extinction\n",
    "from pystella.util import rf\n",
    "from pystella.rf import band\n",
    "import plot_bands as pband"
   ]
  }
 ],
 "metadata": {},
 "nbformat": 4,
 "nbformat_minor": 0
}