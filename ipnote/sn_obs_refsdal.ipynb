{
 "worksheets": [
  {
   "cells": [
    {
     "cell_type": "code",
     "execution_count": null,
     "metadata": {},
     "outputs": [],
     "input": [
      "import os\n",
      "path_root = os.path.expanduser('~/Sn/Release/python/pystella')\n",
      "import sys\n",
      "sys.path.append(path_root)\n",
      "\n",
      "%matplotlib inline\n",
      "from matplotlib import pyplot as plt"
     ],
     "language": "python"
    },
    {
     "cell_type": "code",
     "execution_count": null,
     "metadata": {},
     "outputs": [],
     "input": [
      "z = 1.49\n",
      "e = 0.\n",
      "gl = 'ogu-a'\n",
      "xlim = [-10., 450.]\n",
      "magnification = 22.4\n",
      "distance = 11e9  # pc\n",
      "jd_shift = -56950\n",
      "\n",
      "bands = 'F125W-F160W'.split('-')\n",
      "path = '/home/bakl/Sn/Release/seb_git/res/tt/snrefsdal/87a'\n",
      "name = 'lvl14E5R50M26Ni2m2b1m3Z01'"
     ],
     "language": "python"
    },
    {
     "cell_type": "code",
     "execution_count": null,
     "metadata": {},
     "outputs": [],
     "input": [
      "from pystella.rf import extinction\n",
      "from pystella.rf import light_curve as lc\n",
      "from pystella.rf import band\n",
      "import plot_bands as pband"
     ],
     "language": "python"
    },
    {
     "cell_type": "code",
     "execution_count": null,
     "metadata": {},
     "outputs": [],
     "input": [
      "is_vel = False"
     ],
     "language": "python"
    },
    {
     "cell_type": "code",
     "execution_count": null,
     "metadata": {},
     "outputs": [],
     "input": [
      "if e > 0:\n",
      "    if z > 1:\n",
      "        ext = extinction.extinction_law_z(ebv=e, bands=bands, z=z)\n",
      "    else:\n",
      "        ext = extinction.extinction_law(ebv=e, bands=bands)\n",
      "else:\n",
      "    ext = None"
     ],
     "language": "python"
    },
    {
     "cell_type": "code",
     "execution_count": null,
     "metadata": {},
     "outputs": [],
     "input": [
      "# get magnitudes \n",
      "mags = lc.compute_mag(name, path, bands, ext=ext, z=z, distance=distance, magnification=magnification, is_show_info=False)"
     ],
     "language": "python"
    },
    {
     "cell_type": "code",
     "execution_count": null,
     "metadata": {},
     "outputs": [],
     "input": [
      "callback = lc_wrapper('plot_snrefsdal:%s:%s:%s' % (jd_shift, z, gl))"
     ],
     "language": "python"
    },
    {
     "cell_type": "code",
     "execution_count": null,
     "metadata": {},
     "outputs": [],
     "input": [
      "from obs.sn_obs_refsdal import *\n",
      "run_ubv_vel(name, path, bands, e, z, distance, magnification, xlim=xlim, callback=callback, is_vel=True)"
     ],
     "language": "python"
    },
    {
     "cell_type": "code",
     "execution_count": null,
     "metadata": {},
     "outputs": [],
     "input": [
      "run_S4(name, path, bands, e, z, distance, magnification, callback, xlim=xlim, is_save=False, is_glens=False)"
     ],
     "language": "python"
    },
    {
     "cell_type": "code",
     "execution_count": null,
     "metadata": {},
     "outputs": [],
     "input": [
      "run_S4(name, path, bands, e, z, distance, magnification, callback, xlim=xlim, is_save=False, is_glens=True)"
     ],
     "language": "python"
    },
    {
     "cell_type": "code",
     "execution_count": null,
     "metadata": {},
     "outputs": [],
     "input": [
      "run_BV(name, path, bands, e, z, distance, magnification, callback, xlim=xlim, is_save=False)"
     ],
     "language": "python"
    }
   ]
  }
 ],
 "cells": [],
 "metadata": {
  "name": ""
 },
 "nbformat": 3,
 "nbformat_minor": 0
}