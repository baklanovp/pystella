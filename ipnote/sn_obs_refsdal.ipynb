{
 "cells": [
  {
   "cell_type": "code",
   "execution_count": null,
   "metadata": {
    "collapsed": true
   },
   "outputs": [],
   "source": [
    "import os\n",
    "path_root = os.path.expanduser('~/Sn/Release/python/pystella')\n",
    "import sys\n",
    "sys.path.append(path_root)\n",
    "\n",
    "%matplotlib inline\n",
    "from matplotlib import pyplot as plt"
   ]
  },
  {
   "cell_type": "code",
   "execution_count": null,
   "metadata": {
    "collapsed": true
   },
   "outputs": [],
   "source": [
    "z = 1.49\n",
    "e = 0.\n",
    "gl = 'ogu-a'\n",
    "xlim = [-10., 450.]\n",
    "magnification = 22.4\n",
    "distance = 11e9  # pc\n",
    "jd_shift = -56950\n",
    "\n",
    "bands = 'F125W-F160W'.split('-')\n",
    "path = '/home/bakl/Sn/Release/seb_git/res/tt/snrefsdal/87a'\n",
    "name = 'lvl14E5R50M26Ni2m2b1m3Z01'"
   ]
  },
  {
   "cell_type": "code",
   "execution_count": null,
   "metadata": {
    "collapsed": true
   },
   "outputs": [],
   "source": [
    "from pystella.rf import extinction\n",
    "from pystella.rf import light_curve as lc\n",
    "from pystella.rf import band\n",
    "import plot_bands as pband"
   ]
  },
  {
   "cell_type": "code",
   "execution_count": null,
   "metadata": {
    "collapsed": true
   },
   "outputs": [],
   "source": [
    "is_vel = False"
   ]
  },
  {
   "cell_type": "code",
   "execution_count": null,
   "metadata": {
    "collapsed": true
   },
   "outputs": [],
   "source": [
    "if e > 0:\n",
    "    if z > 1:\n",
    "        ext = extinction.extinction_law_z(ebv=e, bands=bands, z=z)\n",
    "    else:\n",
    "        ext = extinction.extinction_law(ebv=e, bands=bands)\n",
    "else:\n",
    "    ext = None"
   ]
  },
  {
   "cell_type": "code",
   "execution_count": null,
   "metadata": {
    "collapsed": true
   },
   "outputs": [],
   "source": [
    "# get magnitudes \n",
    "mags = lc.compute_mag(name, path, bands, ext=ext, z=z, distance=distance, magnification=magnification, is_show_info=False)"
   ]
  },
  {
   "cell_type": "code",
   "execution_count": null,
   "metadata": {
    "collapsed": true
   },
   "outputs": [],
   "source": [
    "callback = lc_wrapper('plot_snrefsdal:%s:%s:%s' % (jd_shift, z, gl))"
   ]
  },
  {
   "cell_type": "code",
   "execution_count": null,
   "metadata": {
    "collapsed": true
   },
   "outputs": [],
   "source": [
    "from obs.sn_obs_refsdal import *\n",
    "run_ubv_vel(name, path, bands, e, z, distance, magnification, xlim=xlim, callback=callback, is_vel=True)"
   ]
  },
  {
   "cell_type": "code",
   "execution_count": null,
   "metadata": {
    "collapsed": true
   },
   "outputs": [],
   "source": [
    "run_S4(name, path, bands, e, z, distance, magnification, callback, xlim=xlim, is_save=False, is_glens=False)"
   ]
  },
  {
   "cell_type": "code",
   "execution_count": null,
   "metadata": {
    "collapsed": true
   },
   "outputs": [],
   "source": [
    "run_S4(name, path, bands, e, z, distance, magnification, callback, xlim=xlim, is_save=False, is_glens=True)"
   ]
  },
  {
   "cell_type": "code",
   "execution_count": null,
   "metadata": {
    "collapsed": true
   },
   "outputs": [],
   "source": [
    "run_BV(name, path, bands, e, z, distance, magnification, callback, xlim=xlim, is_save=False)"
   ]
  }
 ],
 "metadata": {
  "kernelspec": {
   "display_name": "Python 2",
   "language": "python",
   "name": "python2"
  },
  "language_info": {
   "codemirror_mode": {
    "name": "ipython",
    "version": 2
   },
   "file_extension": ".py",
   "mimetype": "text/x-python",
   "name": "python",
   "nbconvert_exporter": "python",
   "pygments_lexer": "ipython2",
   "version": "2.7.6"
  }
 },
 "nbformat": 4,
 "nbformat_minor": 0
}
