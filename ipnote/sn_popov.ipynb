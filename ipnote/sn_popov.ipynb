{
 "cells": [
  {
   "cell_type": "code",
   "execution_count": 1,
   "metadata": {
    "collapsed": true
   },
   "outputs": [],
   "source": [
    "import os\n",
    "path_root = os.path.expanduser('~/Sn/Release/python/pystella')\n",
    "import sys\n",
    "sys.path.append(path_root)\n",
    "\n",
    "%matplotlib inline\n",
    "from matplotlib import pyplot as plt\n",
    "import numpy as np\n",
    "\n",
    "from pystella.model.popov import Popov\n",
    "from pystella.rf.rad_func import Lum2MagBol"
   ]
  },
  {
   "cell_type": "code",
   "execution_count": 2,
   "metadata": {
    "collapsed": false
   },
   "outputs": [],
   "source": [
    "p = Popov('test', R=500, M=15, Mni=0.07, E=7e50)"
   ]
  },
  {
   "cell_type": "code",
   "execution_count": 3,
   "metadata": {
    "collapsed": false
   },
   "outputs": [
    {
     "name": "stderr",
     "output_type": "stream",
     "text": [
      "/home/bakl/Sn/Release/python/pystella/pystella/model/popov.py:140: RuntimeWarning: invalid value encountered in sqrt\n",
      "  return np.sqrt(tmp)\n",
      "/home/bakl/Sn/Release/python/pystella/pystella/rf/rad_func.py:133: RuntimeWarning: divide by zero encountered in log10\n",
      "  mag = -2.5 * np.log10(l / phys.L_sun) + phys.Mag_sun\n"
     ]
    }
   ],
   "source": [
    "n = 100\n",
    "start, end = 0.1, 200.  # days\n",
    "# time = np.linspace(start, end, n)\n",
    "time = np.exp(np.linspace(np.log(start), np.log(end), n))\n",
    "\n",
    "mags = p.MagBol(time)\n",
    "mags_ni = Lum2MagBol(p.e_rate_ni(time))"
   ]
  },
  {
   "cell_type": "code",
   "execution_count": 4,
   "metadata": {
    "collapsed": false
   },
   "outputs": [
    {
     "data": {
      "image/png": "[encoded data removed]",
      "text/plain": [
       "<matplotlib.figure.Figure at 0x7f330a9d4990>"
      ]
     },
     "metadata": {},
     "output_type": "display_data"
    }
   ],
   "source": [
    "# plot\n",
    "plt.plot(time, mags, color='blue', label='L bol')\n",
    "plt.plot(time, mags_ni, color='red', label='Eni rate')\n",
    "plt.gca().invert_yaxis()\n",
    "plt.xlabel('Time [day]')\n",
    "plt.ylabel('Absolute Magnitude')\n",
    "plt.legend()\n",
    "plt.show()"
   ]
  }
 ],
 "metadata": {
  "kernelspec": {
   "display_name": "Python 2",
   "language": "python",
   "name": "python2"
  },
  "language_info": {
   "codemirror_mode": {
    "name": "ipython",
    "version": 2
   },
   "file_extension": ".py",
   "mimetype": "text/x-python",
   "name": "python",
   "nbconvert_exporter": "python",
   "pygments_lexer": "ipython2",
   "version": "2.7.6"
  }
 },
 "nbformat": 4,
 "nbformat_minor": 0
}
