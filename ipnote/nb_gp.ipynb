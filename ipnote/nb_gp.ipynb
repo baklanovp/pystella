{
 "cells": [
  {
   "cell_type": "code",
   "execution_count": null,
   "metadata": {
    "collapsed": true
   },
   "outputs": [],
   "source": [
    "# See https://github.com/yeahrmek/gp/blob/master/GaussianProcesses.ipynb\n",
    "\n",
    "%matplotlib inline\n",
    "\n",
    "import numpy as np\n",
    "from matplotlib import pyplot\n",
    "\n",
    "from sklearn.gaussian_process import GaussianProcessRegressor\n",
    "from sklearn.gaussian_process.kernels import RBF, WhiteKernel, ConstantKernel as C\n",
    "\n",
    "import GPy"
   ]
  },
  {
   "cell_type": "code",
   "execution_count": null,
   "metadata": {
    "collapsed": true
   },
   "outputs": [],
   "source": [
    "def plot_with_sigma(x_train, y_train, x, y, sigma, label):\n",
    "    pyplot.plot(x, y, label=label)\n",
    "    pyplot.fill_between(x.ravel(), y.ravel() - 2 * sigma.ravel(), y.ravel() + 2 * sigma.ravel(), alpha=0.2)\n",
    "    pyplot.plot(x_train, y_train, 'om', markersize=8, label='Data')\n",
    "    pyplot.legend()"
   ]
  },
  {
   "cell_type": "code",
   "execution_count": null,
   "metadata": {
    "collapsed": true
   },
   "outputs": [],
   "source": [
    "import GPy\n",
    "N = 50\n",
    "noise_var = 0.05\n",
    "\n",
    "np.random.seed(1)\n",
    "x_train = np.linspace(0,10,50)[:,None]\n",
    "k = GPy.kern.RBF(1)\n",
    "y_train = np.random.multivariate_normal(np.zeros(N), k.K(x_train) + np.eye(N) * np.sqrt(noise_var)).reshape(-1,1)"
   ]
  },
  {
   "cell_type": "code",
   "execution_count": null,
   "metadata": {
    "collapsed": false
   },
   "outputs": [],
   "source": [
    "import GPy\n",
    "\n",
    "kernel = GPy.kern.RBF(input_dim=1, variance=1., lengthscale=0.1)\n",
    "model = GPy.models.GPRegression(x_train, y_train, kernel)\n",
    "model.optimize()\n",
    "model.plot()"
   ]
  },
  {
   "cell_type": "markdown",
   "metadata": {},
   "source": [
    "# Bayesian Optimization\n",
    "* Suitable for optimization of \"heavy\" functions (hard to compute functions)\n",
    "* Uses approximation of the objective function\n",
    "* Takes into account the error of approximation"
   ]
  },
  {
   "cell_type": "code",
   "execution_count": null,
   "metadata": {
    "collapsed": true
   },
   "outputs": [],
   "source": [
    "def f(x):\n",
    "    return (6 * x - 2)**2 * np.sin(12 * x - 4)  \n",
    "\n",
    "\n",
    "def lower_confidence_bound(x, model, coefficient=2):\n",
    "    prediction, std = model.predict(x, return_std=True)\n",
    "    return prediction.ravel() - coefficient * std.ravel()\n",
    "\n",
    "def get_new_point(model):\n",
    "    x_grid = np.linspace(0, 1, 200).reshape(-1, 1)\n",
    "\n",
    "    lcb = lower_confidence_bound(x_grid, model, 2)\n",
    "\n",
    "    new_point_index = np.argmin(lcb)\n",
    "    x_new = x_grid[new_point_index]\n",
    "    lcb = lcb[new_point_index]\n",
    "    return x_new, lcb\n",
    "\n",
    "\n",
    "def plot(x_train, y_train, model, x_new, lcb):\n",
    "    x_grid = np.linspace(0, 1, 100).reshape(-1, 1)\n",
    "    y_grid = f(x_grid)\n",
    "\n",
    "    prediction, std = model.predict(x_grid, return_std=True)\n",
    "    prediction = prediction.ravel()\n",
    "    std = std.ravel()\n",
    "\n",
    "    pyplot.figure(figsize=(8, 6))\n",
    "    pyplot.plot(x_train, y_train, 'or', markersize=8, label='Training set')\n",
    "    pyplot.plot(x_grid, y_grid, '--b', linewidth=2, label='True function')\n",
    "    pyplot.plot(x_grid, prediction, '-k', linewidth=2, label='Approximation')\n",
    "    pyplot.fill_between(x_grid.ravel(), prediction - 2 * std, prediction + 2 * std, alpha=0.3)\n",
    "    pyplot.plot(x_new, lcb, 'og', markersize=10, label='New point')\n",
    "    pyplot.ylim([-15, 20])\n",
    "    pyplot.legend(loc='best')\n",
    "\n",
    "def optimization_step(x_train, y_train, model):\n",
    "    model.fit(x_train, y_train)\n",
    "\n",
    "    x_new, lcb = get_new_point(model)\n",
    "    plot(x_train, y_train, model, x_new, lcb)\n",
    "    pyplot.show()\n",
    "    \n",
    "    x_train = np.vstack([x_train, x_new.reshape(-1, 1)])\n",
    "    y_train = np.vstack([y_train, f(x_new).reshape(-1, 1)])\n",
    "    return x_train, y_train"
   ]
  },
  {
   "cell_type": "code",
   "execution_count": null,
   "metadata": {
    "collapsed": false
   },
   "outputs": [],
   "source": [
    "np.random.seed(239)\n",
    "\n",
    "x_train = np.array([0.0, 0.58, 0.38, 0.95]).reshape(-1, 1)\n",
    "y_train = f(x_train)\n",
    "\n",
    "kernel = C(1.0, (1e-3, 1e3)) * RBF(10, (1e-1, 1e1))\n",
    "model = GaussianProcessRegressor(kernel=kernel, normalize_y=True)\n",
    "model.fit(x_train, y_train)"
   ]
  },
  {
   "cell_type": "code",
   "execution_count": null,
   "metadata": {
    "collapsed": false
   },
   "outputs": [],
   "source": [
    "x_grid = np.linspace(0, 1, 100).reshape(-1, 1)\n",
    "y_grid = f(x_grid)\n",
    "prediction, std = model.predict(x_grid, return_std=True)\n",
    "prediction = prediction.ravel()\n",
    "std = std.ravel()\n",
    "pyplot.figure(figsize=(8, 6))\n",
    "pyplot.plot(x_train, y_train, 'or', markersize=8, label='Training set')\n",
    "pyplot.plot(x_grid, prediction, '-k', linewidth=2, label='Approximation')\n",
    "pyplot.fill_between(x_grid.ravel(), prediction - 2 * std, prediction + 2 * std, alpha=0.3)\n",
    "pyplot.ylim([-15, 20])\n",
    "pyplot.legend(loc='best')"
   ]
  },
  {
   "cell_type": "code",
   "execution_count": null,
   "metadata": {
    "collapsed": false
   },
   "outputs": [],
   "source": [
    "x_train, y_train = optimization_step(x_train, y_train, model)"
   ]
  },
  {
   "cell_type": "code",
   "execution_count": null,
   "metadata": {
    "collapsed": false
   },
   "outputs": [],
   "source": [
    "x_train, y_train = optimization_step(x_train, y_train, model)"
   ]
  },
  {
   "cell_type": "code",
   "execution_count": null,
   "metadata": {
    "collapsed": false
   },
   "outputs": [],
   "source": [
    "x_train, y_train = optimization_step(x_train, y_train, model)"
   ]
  },
  {
   "cell_type": "code",
   "execution_count": null,
   "metadata": {
    "collapsed": false
   },
   "outputs": [],
   "source": [
    "x_train, y_train = optimization_step(x_train, y_train, model)"
   ]
  },
  {
   "cell_type": "code",
   "execution_count": null,
   "metadata": {
    "collapsed": false
   },
   "outputs": [],
   "source": [
    "x_train, y_train = optimization_step(x_train, y_train, model)"
   ]
  },
  {
   "cell_type": "code",
   "execution_count": null,
   "metadata": {
    "collapsed": false
   },
   "outputs": [],
   "source": [
    "x_train, y_train = optimization_step(x_train, y_train, model)"
   ]
  },
  {
   "cell_type": "code",
   "execution_count": null,
   "metadata": {
    "collapsed": true
   },
   "outputs": [],
   "source": []
  },
  {
   "cell_type": "code",
   "execution_count": null,
   "metadata": {
    "collapsed": true
   },
   "outputs": [],
   "source": []
  }
 ],
 "metadata": {
  "kernelspec": {
   "display_name": "Python 3",
   "language": "python",
   "name": "python3"
  },
  "language_info": {
   "codemirror_mode": {
    "name": "ipython",
    "version": 3
   },
   "file_extension": ".py",
   "mimetype": "text/x-python",
   "name": "python",
   "nbconvert_exporter": "python",
   "pygments_lexer": "ipython3",
   "version": "3.4.3"
  }
 },
 "nbformat": 4,
 "nbformat_minor": 0
}
